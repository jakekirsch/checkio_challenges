{
 "cells": [
  {
   "cell_type": "markdown",
   "metadata": {},
   "source": [
    "#### CheckIO first challenge\n",
    "\n",
    "In the spirit of learning how to blog about teaching myself data science/programming, I'll start with this simple example I just completed\n",
    "\n",
    "I am currently learning Python. I have a little experience in R, so transitioning is not too difficult, however I enjoy getting into the weeds of how things work. Cool part about CheckIO is that once you complete a challenge, you can see what other folks have submitted and hopefully learn from more experienced programmers.\n",
    "\n",
    "I found the top result difficult to understand and the supporting documentation unhelpful, so I peeled apart the components to work out what was happening."
   ]
  },
  {
   "cell_type": "markdown",
   "metadata": {},
   "source": [
    "First I'll show my example\n",
    "\n",
    "##### My submission"
   ]
  },
  {
   "cell_type": "code",
   "execution_count": 5,
   "metadata": {},
   "outputs": [
    {
     "name": "stdout",
     "output_type": "stream",
     "text": [
      "j\n"
     ]
    }
   ],
   "source": [
    "# Define import modules\n",
    "import sys\n",
    "import re, string\n",
    "\n",
    "# Defines a repeat function that prints out the argument 3 times\n",
    "# and uses a conditional to add a smiley face\n",
    "def checkio(text):\n",
    "    # clean up source text\n",
    "    cleantext = re.sub('[^a-zA-Z]+', '', text)\n",
    "    cleantext = cleantext.lower()\n",
    "\n",
    "    # now create a dictionary of the values that are present\n",
    "    resultdict = dict(zip(set(cleantext), \n",
    "        [0] * len(set(cleantext))))\n",
    "\n",
    "    # find counts of keys\n",
    "    for key in cleantext:\n",
    "        resultdict[key] = resultdict[key] + 1\n",
    "\n",
    "    # now find the letter with the greatest value, tie goes to \n",
    "    # lower\n",
    "    max_char = ''\n",
    "    max_value = 0\n",
    "\n",
    "    for key, value in resultdict.items():\n",
    "        if resultdict[key] > max_value:\n",
    "            max_char = key\n",
    "            max_value = resultdict[key]\n",
    "        elif resultdict[key] == max_value:\n",
    "            if key < max_char:\n",
    "                max_char = key\n",
    "                max_value = resultdict[key]\n",
    "    \n",
    "    return max_char\n",
    "\n",
    "\n",
    "def main():\n",
    "    print(checkio_improved(\"\"\"asdfa;LKJL;KJL;KJLKJ\n",
    "        ;LKJ;LKJ;LJK\n",
    "        sdf234230498 )98098)(*)(* 134240098a;lkjsd;lfkajd;flkj\n",
    "        thisis ;ijasdf string\"\"\"))\n",
    "\n",
    "# Standard boilerplate to call main function\n",
    "if __name__ == '__main__':\n",
    "    main()"
   ]
  },
  {
   "cell_type": "markdown",
   "metadata": {},
   "source": [
    "##### Top Submission \n",
    "*as of 2018.01.25, when I completed this challenge"
   ]
  },
  {
   "cell_type": "code",
   "execution_count": 6,
   "metadata": {},
   "outputs": [
    {
     "name": "stdout",
     "output_type": "stream",
     "text": [
      "j\n"
     ]
    }
   ],
   "source": [
    "def checkio_improved(text):\n",
    "    \"\"\"\n",
    "    We iterate through latyn alphabet and count each letter in the text.\n",
    "    Then 'max' selects the most frequent letter.\n",
    "    For the case when we have several equal letter,\n",
    "    'max' selects the first from they.\n",
    "    \"\"\"\n",
    "    text = text.lower()\n",
    "    return max(string.ascii_lowercase, key = text.count)\n",
    "\n",
    "# define main argument of this module, which calls the repeat \n",
    "# function\n",
    "def main():\n",
    "    print(checkio_improved(\"\"\"asdfa;LKJL;KJL;KJLKJ\n",
    "        ;LKJ;LKJ;LJK\n",
    "        sdf234230498 )98098)(*)(* 134240098a;lkjsd;lfkajd;flkj\n",
    "        thisis ;ijasdf string\"\"\"))\n",
    "\n",
    "# Standard boilerplate to call main function\n",
    "if __name__ == '__main__':\n",
    "    main()"
   ]
  },
  {
   "cell_type": "markdown",
   "metadata": {},
   "source": [
    "###### Breaking it down\n",
    "First `text.lower()` is pretty straightforward to see what is happening. Takes the text and puts it all in lowercase"
   ]
  },
  {
   "cell_type": "code",
   "execution_count": 8,
   "metadata": {},
   "outputs": [
    {
     "name": "stdout",
     "output_type": "stream",
     "text": [
      "this is a string with caps\n"
     ]
    }
   ],
   "source": [
    "print(\"This is a STRING WITH CAPS\".lower())"
   ]
  },
  {
   "cell_type": "markdown",
   "metadata": {},
   "source": [
    "Second, understanding the max function with the key argument led me to read a little bit about lambda functions, which I still don't fully understand, but here is what I see happening."
   ]
  },
  {
   "cell_type": "code",
   "execution_count": 10,
   "metadata": {},
   "outputs": [
    {
     "name": "stdout",
     "output_type": "stream",
     "text": [
      "s\n"
     ]
    }
   ],
   "source": [
    "# max with an iterable argument returns max value of iterable, makes sense here\n",
    "print(max(\"This is a STRING WITH CAPS\"))"
   ]
  },
  {
   "cell_type": "markdown",
   "metadata": {},
   "source": [
    "add in the `.lower()` from first part changes the result, in an intuitive way - lowercase must be ordered before the uppercase letters"
   ]
  },
  {
   "cell_type": "code",
   "execution_count": 15,
   "metadata": {},
   "outputs": [
    {
     "name": "stdout",
     "output_type": "stream",
     "text": [
      "w\n"
     ]
    }
   ],
   "source": [
    "print(max(\"This is a STRING WITH CAPS\".lower()))"
   ]
  },
  {
   "cell_type": "code",
   "execution_count": 16,
   "metadata": {},
   "outputs": [
    {
     "name": "stdout",
     "output_type": "stream",
     "text": [
      "z\n"
     ]
    }
   ],
   "source": [
    "# with the ascii_lowercase value from string\n",
    "print(max(string.ascii_lowercase))"
   ]
  },
  {
   "cell_type": "markdown",
   "metadata": {},
   "source": [
    "Now the second part"
   ]
  },
  {
   "cell_type": "code",
   "execution_count": 18,
   "metadata": {},
   "outputs": [
    {
     "name": "stdout",
     "output_type": "stream",
     "text": [
      "i\n"
     ]
    }
   ],
   "source": [
    "text = \"This is a STRING WITH CAPS\"\n",
    "print(max(string.ascii_lowercase, key = text.count))"
   ]
  },
  {
   "cell_type": "markdown",
   "metadata": {},
   "source": [
    "max with `key` parameter defined, according to [the docs](https://docs.python.org/2/library/functions.html#max \"the docs\") is defined as \n",
    "\n",
    "> The optional key argument specifies a one-argument ordering function like that used for `list.sort()`. The key argument, if supplied, must be in keyword form (for example, `max(a,b,c,key=func)`\n",
    "\n",
    "for someone where this one is the first challenge and not very familiar with programming, this wasn't too helpful. "
   ]
  },
  {
   "cell_type": "markdown",
   "metadata": {},
   "source": [
    "I googled \"max with one-argument ordering function\" and found [this SO post](https://stackoverflow.com/questions/18296755/python-max-function-using-key-and-lambda-expression) on max with lambda functions - seemed very close so I tried to recreate"
   ]
  },
  {
   "cell_type": "code",
   "execution_count": 19,
   "metadata": {},
   "outputs": [
    {
     "name": "stdout",
     "output_type": "stream",
     "text": [
      "z\n"
     ]
    }
   ],
   "source": [
    "text = \"This is a STRING WITH CAPS\"\n",
    "print(max(string.ascii_lowercase, key = lambda x: x.count))"
   ]
  },
  {
   "cell_type": "markdown",
   "metadata": {},
   "source": [
    "This returns a different result...which was confusing.\n",
    "\n",
    "According to the SO answer, lambda is an \"anonymous function\" which, according to a quick read on [this link](https://www.programiz.com/python-programming/anonymous-function) is like a function but can only have one expression that is evaluated and returned. The difference is that it is not stored for later use in the traditional way that we might use `def func:` \n",
    "\n",
    "So here, `x` is the argument and `x.count` is the expression that is evaluated and returned, but what exactly is `x`?"
   ]
  },
  {
   "cell_type": "markdown",
   "metadata": {},
   "source": [
    "Well what is `text.count`? It's actually `str.count()` [found here](https://docs.python.org/2/library/stdtypes.html?highlight=str%20count#str.count)\n",
    "\n",
    "> Return the number of non-overlapping occurrences of substring sub in the range [start, end]. Optional arguments start and end are interpreted as in slice notation."
   ]
  },
  {
   "cell_type": "markdown",
   "metadata": {},
   "source": [
    "*example 1*\n",
    "\n",
    "makes sense - counts the occurences of `'a'`"
   ]
  },
  {
   "cell_type": "code",
   "execution_count": 32,
   "metadata": {},
   "outputs": [
    {
     "name": "stdout",
     "output_type": "stream",
     "text": [
      "1\n"
     ]
    }
   ],
   "source": [
    "text = \"This is a STRING WITH CAPS\"\n",
    "print(text.count('a'))"
   ]
  },
  {
   "cell_type": "markdown",
   "metadata": {},
   "source": [
    "*example 2* \n",
    "\n",
    "This also makes sense - I am putting the lambda function into `result` and then calling it with text, getting the same value from prior. So `x` here is the argument that we perform `.count('a')` on."
   ]
  },
  {
   "cell_type": "code",
   "execution_count": 55,
   "metadata": {},
   "outputs": [
    {
     "data": {
      "text/plain": [
       "1"
      ]
     },
     "execution_count": 55,
     "metadata": {},
     "output_type": "execute_result"
    }
   ],
   "source": [
    "text = \"This is a STRING WITH CAPS\"\n",
    "\n",
    "result = lambda x: x.count('a')\n",
    "result(text)"
   ]
  },
  {
   "cell_type": "code",
   "execution_count": 86,
   "metadata": {},
   "outputs": [
    {
     "data": {
      "text/plain": [
       "1"
      ]
     },
     "execution_count": 86,
     "metadata": {},
     "output_type": "execute_result"
    }
   ],
   "source": [
    "text = \"This is a STRING WITH CAPS\"\n",
    "st = string.ascii_lowercase\n",
    "\n",
    "result = lambda x: text.count(x)\n",
    "result(st)"
   ]
  },
  {
   "cell_type": "code",
   "execution_count": 88,
   "metadata": {},
   "outputs": [
    {
     "data": {
      "text/plain": [
       "2"
      ]
     },
     "execution_count": 88,
     "metadata": {},
     "output_type": "execute_result"
    }
   ],
   "source": [
    "text = \"This is a STRING WITH CAPS\"\n",
    "st = string.ascii_lowercase\n",
    "\n",
    "result = lambda x: text.count(x)\n",
    "result('is')"
   ]
  },
  {
   "cell_type": "markdown",
   "metadata": {},
   "source": [
    "The next two examples is where I really started to see how it was working"
   ]
  },
  {
   "cell_type": "markdown",
   "metadata": {},
   "source": [
    "*example 3*\n",
    "\n",
    "here, max is ordering `string.ascii_lowercase` by the anonymous function, which is defined as "
   ]
  },
  {
   "cell_type": "code",
   "execution_count": 61,
   "metadata": {},
   "outputs": [
    {
     "name": "stdout",
     "output_type": "stream",
     "text": [
      "a\n"
     ]
    }
   ],
   "source": [
    "print(max(string.ascii_lowercase, key = lambda x: x.count('a')))"
   ]
  },
  {
   "cell_type": "markdown",
   "metadata": {},
   "source": [
    "*example 4*"
   ]
  },
  {
   "cell_type": "code",
   "execution_count": 60,
   "metadata": {},
   "outputs": [
    {
     "name": "stdout",
     "output_type": "stream",
     "text": [
      "i\n"
     ]
    }
   ],
   "source": [
    "text = \"This is a STRING WITH CAPS\"\n",
    "print(max(string.ascii_lowercase, key = lambda x: text.count(x)))"
   ]
  },
  {
   "cell_type": "code",
   "execution_count": 69,
   "metadata": {},
   "outputs": [
    {
     "name": "stdout",
     "output_type": "stream",
     "text": [
      "T\n"
     ]
    }
   ],
   "source": [
    "text = \"This is a STRING WITH CAPS\"\n",
    "print(max(text, key = lambda x: text.count('a')))"
   ]
  },
  {
   "cell_type": "code",
   "execution_count": 73,
   "metadata": {},
   "outputs": [
    {
     "name": "stdout",
     "output_type": "stream",
     "text": [
      "T\n"
     ]
    }
   ],
   "source": [
    "text = \"This is a STRING WITH CAPS\"\n",
    "print(max(text, key = lambda x: text.count))"
   ]
  },
  {
   "cell_type": "markdown",
   "metadata": {},
   "source": [
    "guess this makes sense, the ordering of the iterable `string.ascii_lowercase` is by the count of the occurence of `'b'`"
   ]
  },
  {
   "cell_type": "code",
   "execution_count": 1,
   "metadata": {},
   "outputs": [
    {
     "name": "stdout",
     "output_type": "stream",
     "text": [
      "j\n"
     ]
    }
   ],
   "source": [
    "def checkio_improved(text):\n",
    "    \"\"\"\n",
    "    We iterate through latyn alphabet and count each letter in the text.\n",
    "    Then 'max' selects the most frequent letter.\n",
    "    For the case when we have several equal letter,\n",
    "    'max' selects the first from they.\n",
    "    \"\"\"\n",
    "    text = text.lower()\n",
    "    return max(string.ascii_lowercase, \n",
    "        # key = text.count\n",
    "        key = lambda x: text.count(x)\n",
    "        )\n",
    "\n",
    "    # string.ascii_lowercase ??\n",
    "\n",
    "\n",
    "    \n",
    "# define main argument of this module, which calls the repeat \n",
    "# function\n",
    "def main():\n",
    "    # text = sys.argv[1]\n",
    "    # smiley = args[2]\n",
    "\n",
    "    print(checkio_improved(\"\"\"asdfa;LKJL;KJL;KJLKJ\n",
    "        ;LKJ;LKJ;LJK\n",
    "        sdf234230498 )98098)(*)(* 134240098a;lkjsd;lfkajd;flkj\n",
    "        thisis ;ijasdf string\"\"\"))\n",
    "\n",
    "    # print(checkio(string.printable))\n",
    "\n",
    "\n",
    "# Standard boilerplate to call main function\n",
    "if __name__ == '__main__':\n",
    "    main()"
   ]
  },
  {
   "cell_type": "code",
   "execution_count": null,
   "metadata": {},
   "outputs": [],
   "source": []
  }
 ],
 "metadata": {
  "kernelspec": {
   "display_name": "Python 2",
   "language": "python",
   "name": "python2"
  },
  "language_info": {
   "codemirror_mode": {
    "name": "ipython",
    "version": 2
   },
   "file_extension": ".py",
   "mimetype": "text/x-python",
   "name": "python",
   "nbconvert_exporter": "python",
   "pygments_lexer": "ipython2",
   "version": "2.7.10"
  }
 },
 "nbformat": 4,
 "nbformat_minor": 2
}
